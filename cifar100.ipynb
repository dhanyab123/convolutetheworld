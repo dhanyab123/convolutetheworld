{
  "nbformat": 4,
  "nbformat_minor": 0,
  "metadata": {
    "colab": {
      "name": "cifar100.ipynb",
      "provenance": [],
      "collapsed_sections": [],
      "authorship_tag": "ABX9TyPGTSAy4ADV+vzVhn4VGxLd",
      "include_colab_link": true
    },
    "kernelspec": {
      "name": "python3",
      "display_name": "Python 3"
    },
    "language_info": {
      "name": "python"
    }
  },
  "cells": [
    {
      "cell_type": "markdown",
      "metadata": {
        "id": "view-in-github",
        "colab_type": "text"
      },
      "source": [
        "<a href=\"https://colab.research.google.com/github/dhanyab123/somanyclasses/blob/main/cifar100.ipynb\" target=\"_parent\"><img src=\"https://colab.research.google.com/assets/colab-badge.svg\" alt=\"Open In Colab\"/></a>"
      ]
    },
    {
      "cell_type": "markdown",
      "metadata": {
        "id": "D0GUuuArE6Yw"
      },
      "source": [
        "---\n",
        "---\n",
        "# Image Classification\n",
        "\n",
        "To build a convolution neural network which identifies images in the cifar100 dataset with minimum accuracy of 60% on test data and run time of training below 6 minutes.\n",
        "\n",
        "---"
      ]
    },
    {
      "cell_type": "code",
      "metadata": {
        "id": "cJ7sov7RViQs"
      },
      "source": [
        "import os"
      ],
      "execution_count": null,
      "outputs": []
    },
    {
      "cell_type": "code",
      "metadata": {
        "id": "3GUYeaZLalNA"
      },
      "source": [
        "import tensorflow as tf\n",
        "from tensorflow import keras\n",
        "from tensorflow.keras import models, layers\n",
        "from tensorflow.keras.preprocessing import image"
      ],
      "execution_count": null,
      "outputs": []
    },
    {
      "cell_type": "code",
      "metadata": {
        "id": "-zT1EVbEdN5p"
      },
      "source": [
        "import numpy as np\n",
        "import pandas as pd\n",
        "import matplotlib.pyplot as plt"
      ],
      "execution_count": null,
      "outputs": []
    },
    {
      "cell_type": "code",
      "metadata": {
        "id": "SMNoqmsnelP5"
      },
      "source": [
        "(x_train, y_train), (x_test, y_test) = keras.datasets.cifar100.load_data()"
      ],
      "execution_count": null,
      "outputs": []
    },
    {
      "cell_type": "code",
      "metadata": {
        "colab": {
          "base_uri": "https://localhost:8080/"
        },
        "id": "ZQGO8saFwXy3",
        "outputId": "91bb8afa-9f20-43ff-f19d-d5857f30b144"
      },
      "source": [
        "len(x_test)"
      ],
      "execution_count": null,
      "outputs": [
        {
          "output_type": "execute_result",
          "data": {
            "text/plain": [
              "10000"
            ]
          },
          "metadata": {
            "tags": []
          },
          "execution_count": 5
        }
      ]
    },
    {
      "cell_type": "markdown",
      "metadata": {
        "id": "s0Fbxxm_Cm-A"
      },
      "source": [
        "Data pre-processing"
      ]
    },
    {
      "cell_type": "code",
      "metadata": {
        "colab": {
          "base_uri": "https://localhost:8080/"
        },
        "id": "3T_qgYNte0RS",
        "outputId": "f51b089d-7873-4cc2-c598-ef0e7c9847e6"
      },
      "source": [
        "len(x_train)"
      ],
      "execution_count": null,
      "outputs": [
        {
          "output_type": "execute_result",
          "data": {
            "text/plain": [
              "50000"
            ]
          },
          "metadata": {
            "tags": []
          },
          "execution_count": 6
        }
      ]
    },
    {
      "cell_type": "code",
      "metadata": {
        "id": "FctLHgiKdTlR",
        "colab": {
          "base_uri": "https://localhost:8080/",
          "height": 283
        },
        "outputId": "6fd18f22-d7c7-4763-e97f-2dbd2e090faa"
      },
      "source": [
        "# Viewing the train data and its resp. label\n",
        "plt.imshow(x_train[90])\n",
        "plt.colorbar()\n",
        "plt.show()\n",
        "\n",
        "print(y_train[90])"
      ],
      "execution_count": null,
      "outputs": [
        {
          "output_type": "display_data",
          "data": {
            "image/png": "[encoded data removed]",
            "text/plain": [
              "<Figure size 432x288 with 2 Axes>"
            ]
          },
          "metadata": {
            "tags": [],
            "needs_background": "light"
          }
        },
        {
          "output_type": "stream",
          "text": [
            "[46]\n"
          ],
          "name": "stdout"
        }
      ]
    },
    {
      "cell_type": "code",
      "metadata": {
        "id": "e9yCAM7Jejk-",
        "colab": {
          "base_uri": "https://localhost:8080/"
        },
        "outputId": "6649669e-6da1-4bb5-bcc0-6e37f42cc5d5"
      },
      "source": [
        "# Checking the total number of possible labels\n",
        "np.unique(y_train)"
      ],
      "execution_count": null,
      "outputs": [
        {
          "output_type": "execute_result",
          "data": {
            "text/plain": [
              "array([ 0,  1,  2,  3,  4,  5,  6,  7,  8,  9, 10, 11, 12, 13, 14, 15, 16,\n",
              "       17, 18, 19, 20, 21, 22, 23, 24, 25, 26, 27, 28, 29, 30, 31, 32, 33,\n",
              "       34, 35, 36, 37, 38, 39, 40, 41, 42, 43, 44, 45, 46, 47, 48, 49, 50,\n",
              "       51, 52, 53, 54, 55, 56, 57, 58, 59, 60, 61, 62, 63, 64, 65, 66, 67,\n",
              "       68, 69, 70, 71, 72, 73, 74, 75, 76, 77, 78, 79, 80, 81, 82, 83, 84,\n",
              "       85, 86, 87, 88, 89, 90, 91, 92, 93, 94, 95, 96, 97, 98, 99])"
            ]
          },
          "metadata": {
            "tags": []
          },
          "execution_count": 8
        }
      ]
    },
    {
      "cell_type": "code",
      "metadata": {
        "colab": {
          "base_uri": "https://localhost:8080/"
        },
        "id": "DIP62JEEgeV6",
        "outputId": "d702063c-49a1-41e1-ccc2-819b5ebc66c0"
      },
      "source": [
        "x_train[0].shape"
      ],
      "execution_count": null,
      "outputs": [
        {
          "output_type": "execute_result",
          "data": {
            "text/plain": [
              "(32, 32, 3)"
            ]
          },
          "metadata": {
            "tags": []
          },
          "execution_count": 9
        }
      ]
    },
    {
      "cell_type": "markdown",
      "metadata": {
        "id": "tu8qhmIKD7mI"
      },
      "source": [
        "Creating the Convolution Neural Network"
      ]
    },
    {
      "cell_type": "code",
      "metadata": {
        "id": "n1wJEhK3etWc"
      },
      "source": [
        "model = models.Sequential()\n",
        "model.add(layers.Conv2D(32,(3,3), activation='relu', input_shape = (32,32,3)))\n",
        "model.add(layers.MaxPool2D((2,2)))\n",
        "model.add(layers.Dropout(0.2))\n",
        "model.add(layers.Conv2D(64,(3,3), activation='relu'))\n",
        "model.add(layers.MaxPool2D((2,2)))\n",
        "model.add(layers.Conv2D(64,(3,3), activation='relu'))\n",
        "model.add(layers.MaxPool2D((2,2)))"
      ],
      "execution_count": null,
      "outputs": []
    },
    {
      "cell_type": "code",
      "metadata": {
        "id": "AKt0g2iQfe-V",
        "colab": {
          "base_uri": "https://localhost:8080/"
        },
        "outputId": "8ec67266-880f-42ac-8db7-c70fa932723c"
      },
      "source": [
        "model.summary()"
      ],
      "execution_count": null,
      "outputs": [
        {
          "output_type": "stream",
          "text": [
            "Model: \"sequential\"\n",
            "_________________________________________________________________\n",
            "Layer (type)                 Output Shape              Param #   \n",
            "=================================================================\n",
            "conv2d (Conv2D)              (None, 30, 30, 32)        896       \n",
            "_________________________________________________________________\n",
            "max_pooling2d (MaxPooling2D) (None, 15, 15, 32)        0         \n",
            "_________________________________________________________________\n",
            "dropout (Dropout)            (None, 15, 15, 32)        0         \n",
            "_________________________________________________________________\n",
            "conv2d_1 (Conv2D)            (None, 13, 13, 64)        18496     \n",
            "_________________________________________________________________\n",
            "max_pooling2d_1 (MaxPooling2 (None, 6, 6, 64)          0         \n",
            "_________________________________________________________________\n",
            "conv2d_2 (Conv2D)            (None, 4, 4, 64)          36928     \n",
            "_________________________________________________________________\n",
            "max_pooling2d_2 (MaxPooling2 (None, 2, 2, 64)          0         \n",
            "=================================================================\n",
            "Total params: 56,320\n",
            "Trainable params: 56,320\n",
            "Non-trainable params: 0\n",
            "_________________________________________________________________\n"
          ],
          "name": "stdout"
        }
      ]
    },
    {
      "cell_type": "code",
      "metadata": {
        "id": "mbWC2qaogI_g"
      },
      "source": [
        "model.add(layers.Flatten())\n",
        "model.add(layers.Dropout(0.2))\n",
        "model.add(layers.Dense(400, activation='relu'))\n",
        "model.add(layers.Dropout(0.2))\n",
        "model.add(layers.Dense(300, activation='relu'))\n",
        "model.add(layers.Dropout(0.2))\n",
        "model.add(layers.Dense(250, activation='relu'))\n",
        "model.add(layers.Dense(100))"
      ],
      "execution_count": null,
      "outputs": []
    },
    {
      "cell_type": "code",
      "metadata": {
        "id": "aREOKYZAgOrW",
        "colab": {
          "base_uri": "https://localhost:8080/"
        },
        "outputId": "9a6d3ea0-926b-4758-80d5-cfcde34b70e7"
      },
      "source": [
        "model.summary()"
      ],
      "execution_count": null,
      "outputs": [
        {
          "output_type": "stream",
          "text": [
            "Model: \"sequential\"\n",
            "_________________________________________________________________\n",
            "Layer (type)                 Output Shape              Param #   \n",
            "=================================================================\n",
            "conv2d (Conv2D)              (None, 30, 30, 32)        896       \n",
            "_________________________________________________________________\n",
            "max_pooling2d (MaxPooling2D) (None, 15, 15, 32)        0         \n",
            "_________________________________________________________________\n",
            "dropout (Dropout)            (None, 15, 15, 32)        0         \n",
            "_________________________________________________________________\n",
            "conv2d_1 (Conv2D)            (None, 13, 13, 64)        18496     \n",
            "_________________________________________________________________\n",
            "max_pooling2d_1 (MaxPooling2 (None, 6, 6, 64)          0         \n",
            "_________________________________________________________________\n",
            "conv2d_2 (Conv2D)            (None, 4, 4, 64)          36928     \n",
            "_________________________________________________________________\n",
            "max_pooling2d_2 (MaxPooling2 (None, 2, 2, 64)          0         \n",
            "_________________________________________________________________\n",
            "flatten (Flatten)            (None, 256)               0         \n",
            "_________________________________________________________________\n",
            "dropout_1 (Dropout)          (None, 256)               0         \n",
            "_________________________________________________________________\n",
            "dense (Dense)                (None, 400)               102800    \n",
            "_________________________________________________________________\n",
            "dropout_2 (Dropout)          (None, 400)               0         \n",
            "_________________________________________________________________\n",
            "dense_1 (Dense)              (None, 300)               120300    \n",
            "_________________________________________________________________\n",
            "dropout_3 (Dropout)          (None, 300)               0         \n",
            "_________________________________________________________________\n",
            "dense_2 (Dense)              (None, 250)               75250     \n",
            "_________________________________________________________________\n",
            "dense_3 (Dense)              (None, 100)               25100     \n",
            "=================================================================\n",
            "Total params: 379,770\n",
            "Trainable params: 379,770\n",
            "Non-trainable params: 0\n",
            "_________________________________________________________________\n"
          ],
          "name": "stdout"
        }
      ]
    },
    {
      "cell_type": "code",
      "metadata": {
        "id": "1sOTGMWWgUWZ"
      },
      "source": [
        "# Adding to Loss function\n",
        "model.compile(optimizer='adam', loss = tf.keras.losses.SparseCategoricalCrossentropy(from_logits=True), metrics=['accuracy'])"
      ],
      "execution_count": null,
      "outputs": []
    },
    {
      "cell_type": "code",
      "metadata": {
        "id": "r0QCkFERD3XA",
        "colab": {
          "base_uri": "https://localhost:8080/"
        },
        "outputId": "2302d7b8-78a8-4048-c25a-3cc0d79ff6d7"
      },
      "source": [
        "# Training the model\n",
        "model.fit(x_train, y_train, epochs=50, batch_size=500)"
      ],
      "execution_count": null,
      "outputs": [
        {
          "output_type": "stream",
          "text": [
            "Epoch 1/50\n",
            "100/100 [==============================] - 56s 556ms/step - loss: 4.9510 - accuracy: 0.0148\n",
            "Epoch 2/50\n",
            "100/100 [==============================] - 55s 554ms/step - loss: 4.4735 - accuracy: 0.0184\n",
            "Epoch 3/50\n",
            "100/100 [==============================] - 56s 556ms/step - loss: 4.3739 - accuracy: 0.0234\n",
            "Epoch 4/50\n",
            "100/100 [==============================] - 56s 556ms/step - loss: 4.2883 - accuracy: 0.0298\n",
            "Epoch 5/50\n",
            "100/100 [==============================] - 55s 554ms/step - loss: 4.2201 - accuracy: 0.0400\n",
            "Epoch 6/50\n",
            "100/100 [==============================] - 55s 553ms/step - loss: 4.1163 - accuracy: 0.0592\n",
            "Epoch 7/50\n",
            "100/100 [==============================] - 55s 552ms/step - loss: 3.9467 - accuracy: 0.0824\n",
            "Epoch 8/50\n",
            "100/100 [==============================] - 55s 552ms/step - loss: 3.8133 - accuracy: 0.1025\n",
            "Epoch 9/50\n",
            "100/100 [==============================] - 55s 551ms/step - loss: 3.7011 - accuracy: 0.1239\n",
            "Epoch 10/50\n",
            "100/100 [==============================] - 55s 552ms/step - loss: 3.5835 - accuracy: 0.1422\n",
            "Epoch 11/50\n",
            "100/100 [==============================] - 55s 552ms/step - loss: 3.4817 - accuracy: 0.1625\n",
            "Epoch 12/50\n",
            "100/100 [==============================] - 55s 551ms/step - loss: 3.3854 - accuracy: 0.1814\n",
            "Epoch 13/50\n",
            "100/100 [==============================] - 55s 551ms/step - loss: 3.3097 - accuracy: 0.1958\n",
            "Epoch 14/50\n",
            "100/100 [==============================] - 55s 551ms/step - loss: 3.2449 - accuracy: 0.2080\n",
            "Epoch 15/50\n",
            "100/100 [==============================] - 55s 552ms/step - loss: 3.1834 - accuracy: 0.2164\n",
            "Epoch 16/50\n",
            "100/100 [==============================] - 55s 549ms/step - loss: 3.1048 - accuracy: 0.2324\n",
            "Epoch 17/50\n",
            "100/100 [==============================] - 55s 550ms/step - loss: 3.0677 - accuracy: 0.2392\n",
            "Epoch 18/50\n",
            "100/100 [==============================] - 55s 552ms/step - loss: 3.0132 - accuracy: 0.2511\n",
            "Epoch 19/50\n",
            "100/100 [==============================] - 55s 552ms/step - loss: 2.9637 - accuracy: 0.2568\n",
            "Epoch 20/50\n",
            "100/100 [==============================] - 55s 551ms/step - loss: 2.9201 - accuracy: 0.2688\n",
            "Epoch 21/50\n",
            "100/100 [==============================] - 55s 552ms/step - loss: 2.8760 - accuracy: 0.2770\n",
            "Epoch 22/50\n",
            "100/100 [==============================] - 55s 554ms/step - loss: 2.8379 - accuracy: 0.2844\n",
            "Epoch 23/50\n",
            "100/100 [==============================] - 55s 553ms/step - loss: 2.8025 - accuracy: 0.2921\n",
            "Epoch 24/50\n",
            "100/100 [==============================] - 55s 553ms/step - loss: 2.7751 - accuracy: 0.2973\n",
            "Epoch 25/50\n",
            "100/100 [==============================] - 55s 551ms/step - loss: 2.7379 - accuracy: 0.3026\n",
            "Epoch 26/50\n",
            "100/100 [==============================] - 55s 552ms/step - loss: 2.6822 - accuracy: 0.3134\n",
            "Epoch 27/50\n",
            "100/100 [==============================] - 55s 552ms/step - loss: 2.6773 - accuracy: 0.3153\n",
            "Epoch 28/50\n",
            "100/100 [==============================] - 55s 553ms/step - loss: 2.6363 - accuracy: 0.3236\n",
            "Epoch 29/50\n",
            "100/100 [==============================] - 55s 552ms/step - loss: 2.6138 - accuracy: 0.3273\n",
            "Epoch 30/50\n",
            "100/100 [==============================] - 55s 552ms/step - loss: 2.5933 - accuracy: 0.3327\n",
            "Epoch 31/50\n",
            "100/100 [==============================] - 55s 552ms/step - loss: 2.5623 - accuracy: 0.3382\n",
            "Epoch 32/50\n",
            "100/100 [==============================] - 55s 553ms/step - loss: 2.5384 - accuracy: 0.3429\n",
            "Epoch 33/50\n",
            "100/100 [==============================] - 55s 552ms/step - loss: 2.5158 - accuracy: 0.3472\n",
            "Epoch 34/50\n",
            "100/100 [==============================] - 55s 553ms/step - loss: 2.4923 - accuracy: 0.3540\n",
            "Epoch 35/50\n",
            "100/100 [==============================] - 55s 553ms/step - loss: 2.4718 - accuracy: 0.3580\n",
            "Epoch 36/50\n",
            "100/100 [==============================] - 55s 552ms/step - loss: 2.4387 - accuracy: 0.3623\n",
            "Epoch 37/50\n",
            "100/100 [==============================] - 55s 554ms/step - loss: 2.4222 - accuracy: 0.3659\n",
            "Epoch 38/50\n",
            "100/100 [==============================] - 55s 554ms/step - loss: 2.4086 - accuracy: 0.3705\n",
            "Epoch 39/50\n",
            "100/100 [==============================] - 55s 552ms/step - loss: 2.3747 - accuracy: 0.3795\n",
            "Epoch 40/50\n",
            "100/100 [==============================] - 55s 551ms/step - loss: 2.3595 - accuracy: 0.3803\n",
            "Epoch 41/50\n",
            "100/100 [==============================] - 55s 551ms/step - loss: 2.3438 - accuracy: 0.3842\n",
            "Epoch 42/50\n",
            "100/100 [==============================] - 55s 551ms/step - loss: 2.3261 - accuracy: 0.3865\n",
            "Epoch 43/50\n",
            "100/100 [==============================] - 55s 552ms/step - loss: 2.3245 - accuracy: 0.3896\n",
            "Epoch 44/50\n",
            "100/100 [==============================] - 55s 555ms/step - loss: 2.2959 - accuracy: 0.3950\n",
            "Epoch 45/50\n",
            "100/100 [==============================] - 56s 555ms/step - loss: 2.2950 - accuracy: 0.3947\n",
            "Epoch 46/50\n",
            "100/100 [==============================] - 56s 555ms/step - loss: 2.2675 - accuracy: 0.4000\n",
            "Epoch 47/50\n",
            "100/100 [==============================] - 55s 555ms/step - loss: 2.2496 - accuracy: 0.4028\n",
            "Epoch 48/50\n",
            "100/100 [==============================] - 55s 555ms/step - loss: 2.2483 - accuracy: 0.4031\n",
            "Epoch 49/50\n",
            "100/100 [==============================] - 55s 554ms/step - loss: 2.2400 - accuracy: 0.4040\n",
            "Epoch 50/50\n",
            "100/100 [==============================] - 56s 555ms/step - loss: 2.2227 - accuracy: 0.4087\n"
          ],
          "name": "stdout"
        },
        {
          "output_type": "execute_result",
          "data": {
            "text/plain": [
              "<tensorflow.python.keras.callbacks.History at 0x7f5d51a5ec10>"
            ]
          },
          "metadata": {
            "tags": []
          },
          "execution_count": 16
        }
      ]
    },
    {
      "cell_type": "code",
      "metadata": {
        "id": "CWgrzPebv-tL",
        "colab": {
          "base_uri": "https://localhost:8080/"
        },
        "outputId": "83717b54-074a-4582-9962-01134e03e0f8"
      },
      "source": [
        "# Testing the model\n",
        "model.evaluate(x_test, y_test)"
      ],
      "execution_count": null,
      "outputs": [
        {
          "output_type": "stream",
          "text": [
            "313/313 [==============================] - 4s 13ms/step - loss: 2.3974 - accuracy: 0.3876\n"
          ],
          "name": "stdout"
        },
        {
          "output_type": "execute_result",
          "data": {
            "text/plain": [
              "[2.3974242210388184, 0.38760000467300415]"
            ]
          },
          "metadata": {
            "tags": []
          },
          "execution_count": 17
        }
      ]
    },
    {
      "cell_type": "code",
      "metadata": {
        "id": "7Dw-iWcwymx_",
        "colab": {
          "base_uri": "https://localhost:8080/"
        },
        "outputId": "53eae516-2660-4ee7-d228-5c6dccbb5f9b"
      },
      "source": [
        "# Checking size of testing dataset\n",
        "len(y_test)"
      ],
      "execution_count": null,
      "outputs": [
        {
          "output_type": "execute_result",
          "data": {
            "text/plain": [
              "10000"
            ]
          },
          "metadata": {
            "tags": []
          },
          "execution_count": 18
        }
      ]
    },
    {
      "cell_type": "markdown",
      "metadata": {
        "id": "yYyVXUTuEfz_"
      },
      "source": [
        "Viewing output results"
      ]
    },
    {
      "cell_type": "code",
      "metadata": {
        "id": "F-229vtXtqTm"
      },
      "source": [
        "distin = [i for i in range(100)]\n",
        "\n",
        "# Predicting output for the test data\n",
        "predictions = model.predict(x_test)"
      ],
      "execution_count": null,
      "outputs": []
    },
    {
      "cell_type": "code",
      "metadata": {
        "id": "hruX52TK8AtX",
        "colab": {
          "base_uri": "https://localhost:8080/",
          "height": 301
        },
        "outputId": "85b4c97d-defd-483d-d82f-3bd1b9bccc54"
      },
      "source": [
        "# To get the prediction for the data and the input\n",
        "num = 893\n",
        "\n",
        "print(distin[np.argmax(predictions[num])])\n",
        "\n",
        "plt.imshow(x_test[num])\n",
        "plt.colorbar()\n",
        "plt.show()\n",
        "y_test[num]"
      ],
      "execution_count": null,
      "outputs": [
        {
          "output_type": "stream",
          "text": [
            "66\n"
          ],
          "name": "stdout"
        },
        {
          "output_type": "display_data",
          "data": {
            "image/png": "[encoded data removed]",
            "text/plain": [
              "<Figure size 432x288 with 2 Axes>"
            ]
          },
          "metadata": {
            "tags": [],
            "needs_background": "light"
          }
        },
        {
          "output_type": "execute_result",
          "data": {
            "text/plain": [
              "array([66])"
            ]
          },
          "metadata": {
            "tags": []
          },
          "execution_count": 21
        }
      ]
    }
  ]
}